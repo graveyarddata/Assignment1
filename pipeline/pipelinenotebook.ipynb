{
 "cells": [
  {
   "cell_type": "markdown",
   "id": "055f581d",
   "metadata": {},
   "source": [
    "Install required packages"
   ]
  },
  {
   "cell_type": "code",
   "execution_count": 10,
   "id": "5534c465",
   "metadata": {},
   "outputs": [
    {
     "name": "stdout",
     "output_type": "stream",
     "text": [
      "Requirement already satisfied: kfp>2 in c:\\users\\larsk\\appdata\\roaming\\python\\python311\\site-packages (2.14.6)\n",
      "Requirement already satisfied: google-cloud-pipeline-components>2 in c:\\users\\larsk\\appdata\\roaming\\python\\python311\\site-packages (2.21.0)\n",
      "Requirement already satisfied: google-cloud-aiplatform in c:\\users\\larsk\\appdata\\roaming\\python\\python311\\site-packages (1.122.0)\n",
      "Requirement already satisfied: click==8.1.8 in c:\\users\\larsk\\appdata\\roaming\\python\\python311\\site-packages (from kfp>2) (8.1.8)\n",
      "Requirement already satisfied: click-option-group==0.5.7 in c:\\users\\larsk\\appdata\\roaming\\python\\python311\\site-packages (from kfp>2) (0.5.7)\n",
      "Requirement already satisfied: docstring-parser<1,>=0.7.3 in c:\\users\\larsk\\appdata\\roaming\\python\\python311\\site-packages (from kfp>2) (0.17.0)\n",
      "Requirement already satisfied: google-api-core!=2.0.*,!=2.1.*,!=2.2.*,!=2.3.0,<3.0.0dev,>=1.31.5 in c:\\users\\larsk\\appdata\\roaming\\python\\python311\\site-packages (from kfp>2) (2.27.0)\n",
      "Requirement already satisfied: google-auth<3,>=1.6.1 in c:\\users\\larsk\\appdata\\roaming\\python\\python311\\site-packages (from kfp>2) (2.41.1)\n",
      "Requirement already satisfied: google-cloud-storage<4,>=2.2.1 in c:\\users\\larsk\\appdata\\roaming\\python\\python311\\site-packages (from kfp>2) (2.19.0)\n",
      "Requirement already satisfied: kfp-pipeline-spec<3,>=2.14.3 in c:\\users\\larsk\\appdata\\roaming\\python\\python311\\site-packages (from kfp>2) (2.14.6)\n",
      "Requirement already satisfied: kfp-server-api<3,>=2.14.3 in c:\\users\\larsk\\appdata\\roaming\\python\\python311\\site-packages (from kfp>2) (2.14.6)\n",
      "Requirement already satisfied: kubernetes<31,>=8.0.0 in c:\\users\\larsk\\appdata\\roaming\\python\\python311\\site-packages (from kfp>2) (30.1.0)\n",
      "Requirement already satisfied: protobuf<7.0,>=6.31.1 in c:\\users\\larsk\\appdata\\roaming\\python\\python311\\site-packages (from kfp>2) (6.33.0)\n",
      "Requirement already satisfied: PyYAML<7,>=5.3 in c:\\users\\larsk\\anaconda3\\envs\\aml_env\\lib\\site-packages (from kfp>2) (6.0.3)\n",
      "Requirement already satisfied: requests-toolbelt<2,>=0.8.0 in c:\\users\\larsk\\appdata\\roaming\\python\\python311\\site-packages (from kfp>2) (1.0.0)\n",
      "Requirement already satisfied: tabulate<1,>=0.8.6 in c:\\users\\larsk\\appdata\\roaming\\python\\python311\\site-packages (from kfp>2) (0.9.0)\n",
      "Requirement already satisfied: urllib3<3.0.0 in c:\\users\\larsk\\anaconda3\\envs\\aml_env\\lib\\site-packages (from kfp>2) (2.5.0)\n",
      "Requirement already satisfied: colorama in c:\\users\\larsk\\anaconda3\\envs\\aml_env\\lib\\site-packages (from click==8.1.8->kfp>2) (0.4.6)\n",
      "Requirement already satisfied: googleapis-common-protos<2.0.0,>=1.56.2 in c:\\users\\larsk\\appdata\\roaming\\python\\python311\\site-packages (from google-api-core!=2.0.*,!=2.1.*,!=2.2.*,!=2.3.0,<3.0.0dev,>=1.31.5->kfp>2) (1.71.0)\n",
      "Requirement already satisfied: proto-plus<2.0.0,>=1.22.3 in c:\\users\\larsk\\appdata\\roaming\\python\\python311\\site-packages (from google-api-core!=2.0.*,!=2.1.*,!=2.2.*,!=2.3.0,<3.0.0dev,>=1.31.5->kfp>2) (1.26.1)\n",
      "Requirement already satisfied: requests<3.0.0,>=2.18.0 in c:\\users\\larsk\\anaconda3\\envs\\aml_env\\lib\\site-packages (from google-api-core!=2.0.*,!=2.1.*,!=2.2.*,!=2.3.0,<3.0.0dev,>=1.31.5->kfp>2) (2.32.5)\n",
      "Requirement already satisfied: cachetools<7.0,>=2.0.0 in c:\\users\\larsk\\appdata\\roaming\\python\\python311\\site-packages (from google-auth<3,>=1.6.1->kfp>2) (6.2.1)\n",
      "Requirement already satisfied: pyasn1-modules>=0.2.1 in c:\\users\\larsk\\appdata\\roaming\\python\\python311\\site-packages (from google-auth<3,>=1.6.1->kfp>2) (0.4.2)\n",
      "Requirement already satisfied: rsa<5,>=3.1.4 in c:\\users\\larsk\\appdata\\roaming\\python\\python311\\site-packages (from google-auth<3,>=1.6.1->kfp>2) (4.9.1)\n",
      "Requirement already satisfied: google-cloud-core<3.0dev,>=2.3.0 in c:\\users\\larsk\\appdata\\roaming\\python\\python311\\site-packages (from google-cloud-storage<4,>=2.2.1->kfp>2) (2.4.3)\n",
      "Requirement already satisfied: google-resumable-media>=2.7.2 in c:\\users\\larsk\\appdata\\roaming\\python\\python311\\site-packages (from google-cloud-storage<4,>=2.2.1->kfp>2) (2.7.2)\n",
      "Requirement already satisfied: google-crc32c<2.0dev,>=1.0 in c:\\users\\larsk\\appdata\\roaming\\python\\python311\\site-packages (from google-cloud-storage<4,>=2.2.1->kfp>2) (1.7.1)\n",
      "Requirement already satisfied: six>=1.10 in c:\\users\\larsk\\anaconda3\\envs\\aml_env\\lib\\site-packages (from kfp-server-api<3,>=2.14.3->kfp>2) (1.17.0)\n",
      "Requirement already satisfied: certifi in c:\\users\\larsk\\anaconda3\\envs\\aml_env\\lib\\site-packages (from kfp-server-api<3,>=2.14.3->kfp>2) (2025.8.3)\n",
      "Requirement already satisfied: python-dateutil in c:\\users\\larsk\\anaconda3\\envs\\aml_env\\lib\\site-packages (from kfp-server-api<3,>=2.14.3->kfp>2) (2.9.0.post0)\n",
      "Requirement already satisfied: websocket-client!=0.40.0,!=0.41.*,!=0.42.*,>=0.32.0 in c:\\users\\larsk\\appdata\\roaming\\python\\python311\\site-packages (from kubernetes<31,>=8.0.0->kfp>2) (1.9.0)\n",
      "Requirement already satisfied: requests-oauthlib in c:\\users\\larsk\\appdata\\roaming\\python\\python311\\site-packages (from kubernetes<31,>=8.0.0->kfp>2) (2.0.0)\n",
      "Requirement already satisfied: oauthlib>=3.2.2 in c:\\users\\larsk\\appdata\\roaming\\python\\python311\\site-packages (from kubernetes<31,>=8.0.0->kfp>2) (3.3.1)\n",
      "Requirement already satisfied: charset_normalizer<4,>=2 in c:\\users\\larsk\\anaconda3\\envs\\aml_env\\lib\\site-packages (from requests<3.0.0,>=2.18.0->google-api-core!=2.0.*,!=2.1.*,!=2.2.*,!=2.3.0,<3.0.0dev,>=1.31.5->kfp>2) (3.4.3)\n",
      "Requirement already satisfied: idna<4,>=2.5 in c:\\users\\larsk\\anaconda3\\envs\\aml_env\\lib\\site-packages (from requests<3.0.0,>=2.18.0->google-api-core!=2.0.*,!=2.1.*,!=2.2.*,!=2.3.0,<3.0.0dev,>=1.31.5->kfp>2) (3.10)\n",
      "Requirement already satisfied: pyasn1>=0.1.3 in c:\\users\\larsk\\appdata\\roaming\\python\\python311\\site-packages (from rsa<5,>=3.1.4->google-auth<3,>=1.6.1->kfp>2) (0.6.1)\n",
      "Requirement already satisfied: Jinja2<4,>=3.1.2 in c:\\users\\larsk\\anaconda3\\envs\\aml_env\\lib\\site-packages (from google-cloud-pipeline-components>2) (3.1.6)\n",
      "Requirement already satisfied: packaging>=14.3 in c:\\users\\larsk\\anaconda3\\envs\\aml_env\\lib\\site-packages (from google-cloud-aiplatform) (25.0)\n",
      "Requirement already satisfied: google-cloud-bigquery!=3.20.0,<4.0.0,>=1.15.0 in c:\\users\\larsk\\appdata\\roaming\\python\\python311\\site-packages (from google-cloud-aiplatform) (3.38.0)\n",
      "Requirement already satisfied: google-cloud-resource-manager<3.0.0,>=1.3.3 in c:\\users\\larsk\\appdata\\roaming\\python\\python311\\site-packages (from google-cloud-aiplatform) (1.15.0)\n",
      "Requirement already satisfied: shapely<3.0.0 in c:\\users\\larsk\\appdata\\roaming\\python\\python311\\site-packages (from google-cloud-aiplatform) (2.1.2)\n",
      "Requirement already satisfied: google-genai<2.0.0,>=1.37.0 in c:\\users\\larsk\\appdata\\roaming\\python\\python311\\site-packages (from google-cloud-aiplatform) (1.46.0)\n",
      "Requirement already satisfied: pydantic<3 in c:\\users\\larsk\\appdata\\roaming\\python\\python311\\site-packages (from google-cloud-aiplatform) (2.12.3)\n",
      "Requirement already satisfied: typing_extensions in c:\\users\\larsk\\anaconda3\\envs\\aml_env\\lib\\site-packages (from google-cloud-aiplatform) (4.15.0)\n",
      "Requirement already satisfied: grpcio<2.0.0,>=1.33.2 in c:\\users\\larsk\\appdata\\roaming\\python\\python311\\site-packages (from google-api-core[grpc]!=2.0.*,!=2.1.*,!=2.2.*,!=2.3.*,!=2.4.*,!=2.5.*,!=2.6.*,!=2.7.*,<3.0.0,>=1.34.1->google-cloud-aiplatform) (1.76.0)\n",
      "Requirement already satisfied: grpcio-status<2.0.0,>=1.33.2 in c:\\users\\larsk\\appdata\\roaming\\python\\python311\\site-packages (from google-api-core[grpc]!=2.0.*,!=2.1.*,!=2.2.*,!=2.3.*,!=2.4.*,!=2.5.*,!=2.6.*,!=2.7.*,<3.0.0,>=1.34.1->google-cloud-aiplatform) (1.76.0)\n",
      "Requirement already satisfied: grpc-google-iam-v1<1.0.0,>=0.14.0 in c:\\users\\larsk\\appdata\\roaming\\python\\python311\\site-packages (from google-cloud-resource-manager<3.0.0,>=1.3.3->google-cloud-aiplatform) (0.14.3)\n",
      "Requirement already satisfied: anyio<5.0.0,>=4.8.0 in c:\\users\\larsk\\appdata\\roaming\\python\\python311\\site-packages (from google-genai<2.0.0,>=1.37.0->google-cloud-aiplatform) (4.11.0)\n",
      "Requirement already satisfied: httpx<1.0.0,>=0.28.1 in c:\\users\\larsk\\appdata\\roaming\\python\\python311\\site-packages (from google-genai<2.0.0,>=1.37.0->google-cloud-aiplatform) (0.28.1)\n",
      "Requirement already satisfied: tenacity<9.2.0,>=8.2.3 in c:\\users\\larsk\\appdata\\roaming\\python\\python311\\site-packages (from google-genai<2.0.0,>=1.37.0->google-cloud-aiplatform) (9.1.2)\n",
      "Requirement already satisfied: websockets<15.1.0,>=13.0.0 in c:\\users\\larsk\\appdata\\roaming\\python\\python311\\site-packages (from google-genai<2.0.0,>=1.37.0->google-cloud-aiplatform) (15.0.1)\n",
      "Requirement already satisfied: sniffio>=1.1 in c:\\users\\larsk\\appdata\\roaming\\python\\python311\\site-packages (from anyio<5.0.0,>=4.8.0->google-genai<2.0.0,>=1.37.0->google-cloud-aiplatform) (1.3.1)\n",
      "Requirement already satisfied: httpcore==1.* in c:\\users\\larsk\\appdata\\roaming\\python\\python311\\site-packages (from httpx<1.0.0,>=0.28.1->google-genai<2.0.0,>=1.37.0->google-cloud-aiplatform) (1.0.9)\n",
      "Requirement already satisfied: h11>=0.16 in c:\\users\\larsk\\appdata\\roaming\\python\\python311\\site-packages (from httpcore==1.*->httpx<1.0.0,>=0.28.1->google-genai<2.0.0,>=1.37.0->google-cloud-aiplatform) (0.16.0)\n",
      "Requirement already satisfied: MarkupSafe>=2.0 in c:\\users\\larsk\\anaconda3\\envs\\aml_env\\lib\\site-packages (from Jinja2<4,>=3.1.2->google-cloud-pipeline-components>2) (3.0.3)\n",
      "Requirement already satisfied: annotated-types>=0.6.0 in c:\\users\\larsk\\appdata\\roaming\\python\\python311\\site-packages (from pydantic<3->google-cloud-aiplatform) (0.7.0)\n",
      "Requirement already satisfied: pydantic-core==2.41.4 in c:\\users\\larsk\\appdata\\roaming\\python\\python311\\site-packages (from pydantic<3->google-cloud-aiplatform) (2.41.4)\n",
      "Requirement already satisfied: typing-inspection>=0.4.2 in c:\\users\\larsk\\appdata\\roaming\\python\\python311\\site-packages (from pydantic<3->google-cloud-aiplatform) (0.4.2)\n",
      "Requirement already satisfied: numpy>=1.21 in c:\\users\\larsk\\anaconda3\\envs\\aml_env\\lib\\site-packages (from shapely<3.0.0->google-cloud-aiplatform) (1.26.4)\n"
     ]
    }
   ],
   "source": [
    "! pip3 install --user --no-cache-dir --upgrade \"kfp>2\" \"google-cloud-pipeline-components>2\" \\\n",
    "                                        google-cloud-aiplatform"
   ]
  },
  {
   "cell_type": "markdown",
   "id": "0ef586b2",
   "metadata": {},
   "source": [
    "Restart the kernel"
   ]
  },
  {
   "cell_type": "code",
   "execution_count": null,
   "id": "396ffa92",
   "metadata": {},
   "outputs": [],
   "source": []
  },
  {
   "cell_type": "code",
   "execution_count": 11,
   "id": "171dbf4d",
   "metadata": {},
   "outputs": [
    {
     "name": "stdout",
     "output_type": "stream",
     "text": [
      "KFP SDK version: 2.14.6\n",
      "google-cloud-pipeline-components version: 2.21.0\n"
     ]
    }
   ],
   "source": [
    "\n",
    "# Imports from the later cell (assuming you run this after the import cell)\n",
    "import kfp\n",
    "import google_cloud_pipeline_components\n",
    "\n",
    "print(f\"KFP SDK version: {kfp.__version__}\")\n",
    "# Note: google-cloud-aiplatform does not expose __version__ directly on its top-level import\n",
    "print(f\"google-cloud-pipeline-components version: {google_cloud_pipeline_components.__version__}\")"
   ]
  },
  {
   "cell_type": "markdown",
   "id": "35f4beba",
   "metadata": {},
   "source": [
    "Imports"
   ]
  },
  {
   "cell_type": "code",
   "execution_count": 12,
   "id": "e51aacbe",
   "metadata": {},
   "outputs": [],
   "source": [
    "import kfp\n",
    "import typing\n",
    "from typing import Dict\n",
    "from typing import NamedTuple\n",
    "from kfp import dsl\n",
    "from kfp.dsl import (Artifact,\n",
    "                        Dataset,\n",
    "                        Input,\n",
    "                        Model,\n",
    "                        Output,\n",
    "                        Metrics,\n",
    "                        ClassificationMetrics,\n",
    "                        component, \n",
    "                        OutputPath, \n",
    "                        InputPath)\n",
    "import google.cloud.aiplatform as aip\n",
    "from google_cloud_pipeline_components.types import artifact_types"
   ]
  },
  {
   "cell_type": "markdown",
   "id": "aed794de",
   "metadata": {},
   "source": [
    "Project and pipeline configurations"
   ]
  },
  {
   "cell_type": "code",
   "execution_count": null,
   "id": "f5c603d7",
   "metadata": {},
   "outputs": [],
   "source": [
    "PROJECT_ID   = \"assignment1\"        \n",
    "REGION       = \"us-central1\"\n",
    "PIPELINE_ROOT = \"gs://assignment1group3/runs\"\n",
    "DATA_BUCKET = 'assignment1group3'\n",
    "DATA_FILE = 'data/penguins_clean.csv'\n",
    "MODEL_DIR = 'gs://assignment1group3/models'"
   ]
  },
  {
   "cell_type": "markdown",
   "id": "2fcfa33f",
   "metadata": {},
   "source": [
    "Pipeline component: Data Ingestion"
   ]
  },
  {
   "cell_type": "code",
   "execution_count": 14,
   "id": "6b18e377",
   "metadata": {},
   "outputs": [],
   "source": [
    "@dsl.component(\n",
    "    packages_to_install= [\"pandas\", \"google-cloud-storage\"],\n",
    "    base_image=\"python:3.10.7-slim\",\n",
    ")\n",
    "def download_data(project_id: str,\n",
    "                  bucket: str,\n",
    "                  file_name: str,\n",
    "                  dataset: Output[Dataset]):\n",
    "    \"\"\"Download data\"\"\"\n",
    "    from google.cloud import storage\n",
    "    import pandas as pd\n",
    "    import logging\n",
    "    import sys\n",
    "\n",
    "    logging.basicConfig(stream=sys.stdout, level=logging.INFO)\n",
    "\n",
    "    client = storage.Client(project=project_id)\n",
    "    bucket = client.bucket(bucket)\n",
    "    blob = bucket.blob(file_name)\n",
    "    blob.download_to_filename(dataset.path + '.csv')\n",
    "    logging.info(f\"Downloaded to {local_csv}\")\n"
   ]
  },
  {
   "cell_type": "markdown",
   "id": "7d1005a4",
   "metadata": {},
   "source": [
    "Pipeline component: Preprocess data"
   ]
  },
  {
   "cell_type": "code",
   "execution_count": 15,
   "id": "1c31f26d",
   "metadata": {},
   "outputs": [],
   "source": [
    "@dsl.component(\n",
    "        packages_to_install=['pandas', 'scikit-learn'],\n",
    "        base_image=\"python:3.10.7-slim\"\n",
    "        )\n",
    "def preprocess(dataset: Input[Dataset],\n",
    "               train_out: Output[Dataset],\n",
    "               test_out: Output[Dataset]):\n",
    "    \n",
    "    import pandas as pd\n",
    "    from sklearn.model_selection import train_test_split\n",
    "\n",
    "    logging.basicConfig(stream=sys.stdout, level=logging.INFO)\n",
    "\n",
    "    cols = [\"bill_length_mm\",\"bill_depth_mm\",\"flipper_length_mm\",\"body_mass_g\",\"species\"]\n",
    "    df = pd.read_csv(dataset.path + \".csv\")[cols].dropna()\n",
    "    train, test = train_test_split(df, test_size=0.2, random_state=42, stratify=df[\"species\"])\n",
    "    train.to_csv(train_out.path + \".csv\", index=False)\n",
    "    test.to_csv(test_out.path + \".csv\", index=False)"
   ]
  },
  {
   "cell_type": "markdown",
   "id": "1bc8fc63",
   "metadata": {},
   "source": [
    "Pipeline component: train data"
   ]
  },
  {
   "cell_type": "code",
   "execution_count": 16,
   "id": "dd789dbc",
   "metadata": {},
   "outputs": [],
   "source": [
    "@dsl.component(\n",
    "    base_image=\"python:3.10.7-slim\",\n",
    "    packages_to_install=[\"pandas\",\"scikit-learn\",\"joblib\"]\n",
    ")\n",
    "\n",
    "def train(train_ds: Input[Dataset],\n",
    "          model_art: Output[Model]):\n",
    "    import pandas as pd\n",
    "    import joblib\n",
    "    import json\n",
    "    import os\n",
    "    from sklearn.preprocessing import StandardScaler\n",
    "    from sklearn.linear_model import LogisticRegression\n",
    "    from sklearn.pipeline import Pipeline\n",
    "\n",
    "    logging.basicConfig(stream=sys.stdout, level=logging.INFO)\n",
    "\n",
    "    df = pd.read_csv(train_ds.path + \".csv\")\n",
    "    X = df[[\"bill_length_mm\",\"bill_depth_mm\",\"flipper_length_mm\",\"body_mass_g\"]]\n",
    "    y = df[\"species\"]\n",
    "\n",
    "    pipe = Pipeline([\n",
    "        (\"scaler\", StandardScaler()),\n",
    "        (\"clf\", LogisticRegression(max_iter=500, multi_class=\"ovr\", random_state=42))\n",
    "    ]).fit(X, y)\n",
    "\n",
    "    joblib.dump(pipe, model_art.path + \".pkl\")\n",
    "    with open(model_art.path + \"_meta.json\",\"w\") as f:\n",
    "        json.dump({\"classes\": sorted(y.unique())}, f)"
   ]
  },
  {
   "cell_type": "markdown",
   "id": "df17160a",
   "metadata": {},
   "source": [
    "Component: predict"
   ]
  },
  {
   "cell_type": "code",
   "execution_count": 17,
   "id": "b294d112",
   "metadata": {},
   "outputs": [],
   "source": [
    "@dsl.component(\n",
    "    base_image=\"python:3.10.7-slim\",\n",
    "    packages_to_install=[\"pandas\",\"joblib\"]\n",
    ")\n",
    "def batch_predict(model_art: Input[Model],\n",
    "                  features_csv: Input[Dataset],\n",
    "                  predictions_out: Output[Dataset]):\n",
    "    \"\"\"make predictions\"\"\"\n",
    "\n",
    "    import pandas as pd\n",
    "    import joblib\n",
    "\n",
    "    logging.basicConfig(stream=sys.stdout, level=logging.INFO)\n",
    "\n",
    "    X = pd.read_csv(features_csv.path + \".csv\")[[\n",
    "        \"bill_length_mm\",\"bill_depth_mm\",\"flipper_length_mm\",\"body_mass_g\"\n",
    "    ]]\n",
    "    model = joblib.load(model_art.path + \".pkl\")\n",
    "    preds = model.predict(X)\n",
    "\n",
    "    out = pd.DataFrame({\"prediction\": preds})\n",
    "    out.to_csv(predictions_out.path + \".csv\", index=False)\n"
   ]
  },
  {
   "cell_type": "markdown",
   "id": "36e37778",
   "metadata": {},
   "source": [
    "Component: Evaluation"
   ]
  },
  {
   "cell_type": "code",
   "execution_count": 18,
   "id": "51bf1b3a",
   "metadata": {},
   "outputs": [],
   "source": [
    "@dsl.component(\n",
    "    base_image=\"python:3.10.7-slim\",\n",
    "    packages_to_install=[\"pandas\",\"joblib\",\"gcsfs\",\"fsspec\"]\n",
    ")\n",
    "\n",
    "def evaluate_and_promote(test_ds: Input[Dataset],\n",
    "                         model_art: Input[Model],\n",
    "                         metrics: Output[Metrics],\n",
    "                         model_dir: str):\n",
    "    \"\"\"evaluate\"\"\"\n",
    "\n",
    "    import pandas as pd\n",
    "    import joblib\n",
    "    import json\n",
    "    import fsspec\n",
    "    import os\n",
    "\n",
    "    logging.basicConfig(stream=sys.stdout, level=logging.INFO)\n",
    "\n",
    "    df = pd.read_csv(test_ds.path + \".csv\")\n",
    "    X = df[[\"bill_length_mm\",\"bill_depth_mm\",\"flipper_length_mm\",\"body_mass_g\"]]\n",
    "    y = df[\"species\"]\n",
    "\n",
    "    model = joblib.load(model_art.path + \".pkl\")\n",
    "    acc = float((model.predict(X) == y).mean())\n",
    "    metrics.log_metric(\"accuracy\", acc)\n",
    "\n",
    "    # Promote to your single model location (no champion subfolder per your choice)\n",
    "    fs = fsspec.filesystem(\"gcs\")\n",
    "    proj_model_dir = model_dir.rstrip(\"/\")\n",
    "    fs.put(model_art.path + \".pkl\",        f\"{proj_model_dir}/model.pkl\")\n",
    "    fs.put(model_art.path + \"_meta.json\",  f\"{proj_model_dir}/model_meta.json\")\n",
    "    # optional metrics file\n",
    "    with fs.open(f\"{proj_model_dir}/metrics.json\",\"w\") as f:\n",
    "        json.dump({\"accuracy\": acc}, f)\n"
   ]
  },
  {
   "cell_type": "markdown",
   "id": "7ce6d085",
   "metadata": {},
   "source": [
    "Component: pipeline definition"
   ]
  },
  {
   "cell_type": "code",
   "execution_count": 19,
   "id": "d2e6271f",
   "metadata": {},
   "outputs": [],
   "source": [
    "@kfp.dsl.pipeline(name=\"penguins-pipeline\")\n",
    "\n",
    "def penguins_pipeline(run_id: str = \"manual-run\"):\n",
    "    \n",
    "    ingest = download_data(\n",
    "        project_id=PROJECT_ID,\n",
    "        bucket=DATA_BUCKET,\n",
    "        file_name=DATA_FILE\n",
    "    )\n",
    "\n",
    "    prep = preprocess(\n",
    "        dataset=ingest.outputs[\"dataset\"]\n",
    "    )\n",
    "\n",
    "    trn = train(\n",
    "        train_ds=prep.outputs[\"train_out\"]\n",
    "    )\n",
    "\n",
    "    evaluate_and_promote(\n",
    "        test_ds=prep.outputs[\"test_out\"],\n",
    "        model_art=trn.outputs[\"model_art\"],\n",
    "        model_dir=MODEL_DIR\n",
    "    )\n"
   ]
  },
  {
   "cell_type": "markdown",
   "id": "2d24864e",
   "metadata": {},
   "source": [
    "Compilation"
   ]
  },
  {
   "cell_type": "code",
   "execution_count": null,
   "id": "c8ae6eab",
   "metadata": {},
   "outputs": [
    {
     "name": "stderr",
     "output_type": "stream",
     "text": [
      "C:\\Users\\larsk\\AppData\\Local\\Temp\\ipykernel_25900\\3773306227.py:1: DeprecationWarning: The module `kfp.v2` is deprecated and will be removed in a futureversion. Please import directly from the `kfp` namespace, instead of `kfp.v2`.\n",
      "  from kfp.v2 import compiler\n"
     ]
    }
   ],
   "source": [
    "from kfp.compiler import Compiler\n",
    "compiler.Compiler().compile(pipeline_func = penguins_pipeline, \n",
    "                            package_path = 'penguins_pipeline.json')"
   ]
  }
 ],
 "metadata": {
  "kernelspec": {
   "display_name": "AML_env",
   "language": "python",
   "name": "python3"
  },
  "language_info": {
   "codemirror_mode": {
    "name": "ipython",
    "version": 3
   },
   "file_extension": ".py",
   "mimetype": "text/x-python",
   "name": "python",
   "nbconvert_exporter": "python",
   "pygments_lexer": "ipython3",
   "version": "3.11.13"
  }
 },
 "nbformat": 4,
 "nbformat_minor": 5
}
