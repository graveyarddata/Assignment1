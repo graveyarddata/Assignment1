{
 "cells": [
  {
   "metadata": {},
   "cell_type": "markdown",
   "source": [
    "### To test the model.pkl file\n",
    "\n",
    "To test what input it takes to function, and what format output it gives"
   ],
   "id": "998eef84ad647da1"
  },
  {
   "metadata": {
    "ExecuteTime": {
     "end_time": "2025-10-28T11:22:00.761056Z",
     "start_time": "2025-10-28T11:22:00.754718Z"
    }
   },
   "cell_type": "code",
   "source": [
    "import joblib\n",
    "import numpy as np\n",
    "import pandas as pd\n",
    "\n",
    "# === 1 Load model ===\n",
    "model = joblib.load(r\"/pipeline/simple model test/model.pkl\")  # adjust path if needed\n",
    "\n",
    "# === 2 Create a test input ===\n",
    "# These column names must match the ones used during training\n",
    "X_test = pd.DataFrame([{\n",
    "    \"bill_length_mm\": 45.9,\n",
    "    \"bill_depth_mm\": 17.1,\n",
    "    \"flipper_length_mm\": 190.0,\n",
    "    \"body_mass_g\": 3575.0\n",
    "}])\n",
    "\n",
    "# === 3 Run prediction ===\n",
    "pred = model.predict(X_test)\n",
    "raw = int(pred[0]) # retrieves the output as an integer (class level; either 0,1, or 2)\n",
    "species_map = {0: \"Adelie\", 1: \"Chinstrap\", 2: \"Gentoo\"} # maps the integer to the correct string value\n",
    "label = species_map.get(raw, \"Unknown\")\n",
    "print(\"Raw model output:\", label)\n",
    "print(type(label))\n",
    "\n",
    "# === 4 check model.classes_ ===\n",
    "if hasattr(model, \"classes_\"):\n",
    "    print(\"Classes:\", model.classes_)\n"
   ],
   "id": "df0ba485ba970ac4",
   "outputs": [
    {
     "name": "stdout",
     "output_type": "stream",
     "text": [
      "Raw model output: Chinstrap\n",
      "<class 'str'>\n",
      "Classes: [0 1 2]\n"
     ]
    }
   ],
   "execution_count": 7
  },
  {
   "metadata": {},
   "cell_type": "code",
   "outputs": [],
   "execution_count": null,
   "source": "45.9,17.1,190.0,3575.0\n",
   "id": "14a17cc210f23c7e"
  }
 ],
 "metadata": {
  "kernelspec": {
   "display_name": "Python 3",
   "language": "python",
   "name": "python3"
  },
  "language_info": {
   "codemirror_mode": {
    "name": "ipython",
    "version": 2
   },
   "file_extension": ".py",
   "mimetype": "text/x-python",
   "name": "python",
   "nbconvert_exporter": "python",
   "pygments_lexer": "ipython2",
   "version": "2.7.6"
  }
 },
 "nbformat": 4,
 "nbformat_minor": 5
}
