{
 "cells": [
  {
   "metadata": {},
   "cell_type": "markdown",
   "source": [
    "### To test the model.pkl file\n",
    "\n",
    "To test what input it takes to function, and what format output it gives"
   ],
   "id": "998eef84ad647da1"
  },
  {
   "metadata": {
    "ExecuteTime": {
     "end_time": "2025-10-28T10:39:46.784691Z",
     "start_time": "2025-10-28T10:39:41.201348Z"
    }
   },
   "cell_type": "code",
   "source": [
    "import joblib\n",
    "import numpy as np\n",
    "import pandas as pd\n",
    "\n",
    "# === 1 Load model ===\n",
    "model = joblib.load(r\"C:\\Users\\yvett\\OneDrive\\Yvette Laptop Oud\\UNIVERSITY\\MASTER YEAR 1\\Data Engineering\\Assignment1\\pipeline\\model.pkl\")  # adjust path if needed\n",
    "\n",
    "# === 2 Create a test input ===\n",
    "# These column names must match the ones used during training\n",
    "X_test = pd.DataFrame([{\n",
    "    \"bill_length_mm\": 39.1,\n",
    "    \"bill_depth_mm\": 18.7,\n",
    "    \"flipper_length_mm\": 181.0,\n",
    "    \"body_mass_g\": 3750.0\n",
    "}])\n",
    "\n",
    "# === 3 Run prediction ===\n",
    "pred = model.predict(X_test)\n",
    "print(\"Raw model output:\", pred)\n",
    "\n",
    "# === 4 check model.classes_ ===\n",
    "if hasattr(model, \"classes_\"):\n",
    "    print(\"Classes:\", model.classes_)\n"
   ],
   "id": "df0ba485ba970ac4",
   "outputs": [
    {
     "name": "stdout",
     "output_type": "stream",
     "text": [
      "Raw model output: [0]\n",
      "Classes: [0 1 2]\n"
     ]
    }
   ],
   "execution_count": 3
  },
  {
   "metadata": {},
   "cell_type": "code",
   "outputs": [],
   "execution_count": null,
   "source": "",
   "id": "14a17cc210f23c7e"
  }
 ],
 "metadata": {
  "kernelspec": {
   "display_name": "Python 3",
   "language": "python",
   "name": "python3"
  },
  "language_info": {
   "codemirror_mode": {
    "name": "ipython",
    "version": 2
   },
   "file_extension": ".py",
   "mimetype": "text/x-python",
   "name": "python",
   "nbconvert_exporter": "python",
   "pygments_lexer": "ipython2",
   "version": "2.7.6"
  }
 },
 "nbformat": 4,
 "nbformat_minor": 5
}
